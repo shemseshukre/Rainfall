{
 "cells": [
  {
   "cell_type": "code",
   "execution_count": 2,
   "metadata": {},
   "outputs": [],
   "source": [
    "# Importing the libraries\n",
    "import numpy as np\n",
    "import matplotlib.pyplot as plt\n",
    "import pandas as pd\n",
    "import pickle\n",
    "import joblib\n",
    "\n",
    "from tensorflow import keras\n",
    "import numpy as np\n",
    "import matplotlib.pyplot as plt\n",
    "import pandas as pd\n",
    "import tensorflow as tf\n",
    "from sklearn.preprocessing import *\n",
    "from sklearn.metrics import *\n",
    "#from pylab import rcParams\n",
    "#from matplotlib import rc\n",
    "import seaborn as sns\n",
    "from sklearn.model_selection import train_test_split\n",
    "#%matplotlib inline\n",
    "#%config InlineBackend.figure_format='retina'\n",
    "#register_matplotlib_converters()\n",
    "from keras import regularizers\n",
    "sns.set(style='whitegrid', palette='muted', font_scale=1.5)\n",
    "#rcParams['figure.figsize'] = 13, 6\n",
    "from keras.preprocessing.sequence import TimeseriesGenerator\n",
    "from tensorflow.keras import Sequential, layers, callbacks\n",
    "from tensorflow.keras.layers import Dense, SimpleRNN, LSTM,Activation, Dropout, GRU, Bidirectional"
   ]
  },
  {
   "cell_type": "markdown",
   "metadata": {},
   "source": [
    "# Read Csv File"
   ]
  },
  {
   "cell_type": "code",
   "execution_count": 3,
   "metadata": {},
   "outputs": [
    {
     "data": {
      "text/html": [
       "<div>\n",
       "<style scoped>\n",
       "    .dataframe tbody tr th:only-of-type {\n",
       "        vertical-align: middle;\n",
       "    }\n",
       "\n",
       "    .dataframe tbody tr th {\n",
       "        vertical-align: top;\n",
       "    }\n",
       "\n",
       "    .dataframe thead th {\n",
       "        text-align: right;\n",
       "    }\n",
       "</style>\n",
       "<table border=\"1\" class=\"dataframe\">\n",
       "  <thead>\n",
       "    <tr style=\"text-align: right;\">\n",
       "      <th></th>\n",
       "      <th>Rainfall</th>\n",
       "      <th>RHumid</th>\n",
       "      <th>DewPoint</th>\n",
       "      <th>MaxTemp</th>\n",
       "      <th>WindSpeed3pm</th>\n",
       "      <th>Temp9pm</th>\n",
       "      <th>MinTemp</th>\n",
       "      <th>WetBulbTemp</th>\n",
       "      <th>AirPres</th>\n",
       "      <th>Humid3pm</th>\n",
       "      <th>MaxWinSpeed</th>\n",
       "      <th>WinSpeed9pm</th>\n",
       "      <th>AvgTemp</th>\n",
       "    </tr>\n",
       "  </thead>\n",
       "  <tbody>\n",
       "    <tr>\n",
       "      <th>0</th>\n",
       "      <td>Rain</td>\n",
       "      <td>47.25</td>\n",
       "      <td>14.12</td>\n",
       "      <td>32.66</td>\n",
       "      <td>-99.0</td>\n",
       "      <td>26.48</td>\n",
       "      <td>12.20</td>\n",
       "      <td>14.12</td>\n",
       "      <td>88.75</td>\n",
       "      <td>-99.0</td>\n",
       "      <td>-99.0</td>\n",
       "      <td>-99.0</td>\n",
       "      <td>27.91</td>\n",
       "    </tr>\n",
       "    <tr>\n",
       "      <th>1</th>\n",
       "      <td>No_Rain</td>\n",
       "      <td>33.72</td>\n",
       "      <td>9.06</td>\n",
       "      <td>34.21</td>\n",
       "      <td>-99.0</td>\n",
       "      <td>26.76</td>\n",
       "      <td>13.79</td>\n",
       "      <td>9.07</td>\n",
       "      <td>88.71</td>\n",
       "      <td>-99.0</td>\n",
       "      <td>-99.0</td>\n",
       "      <td>-99.0</td>\n",
       "      <td>27.50</td>\n",
       "    </tr>\n",
       "    <tr>\n",
       "      <th>2</th>\n",
       "      <td>No_Rain</td>\n",
       "      <td>31.13</td>\n",
       "      <td>7.88</td>\n",
       "      <td>35.13</td>\n",
       "      <td>-99.0</td>\n",
       "      <td>26.50</td>\n",
       "      <td>16.71</td>\n",
       "      <td>7.89</td>\n",
       "      <td>88.67</td>\n",
       "      <td>-99.0</td>\n",
       "      <td>-99.0</td>\n",
       "      <td>-99.0</td>\n",
       "      <td>27.59</td>\n",
       "    </tr>\n",
       "    <tr>\n",
       "      <th>3</th>\n",
       "      <td>No_Rain</td>\n",
       "      <td>32.71</td>\n",
       "      <td>9.11</td>\n",
       "      <td>34.27</td>\n",
       "      <td>-99.0</td>\n",
       "      <td>26.99</td>\n",
       "      <td>15.53</td>\n",
       "      <td>9.12</td>\n",
       "      <td>88.65</td>\n",
       "      <td>-99.0</td>\n",
       "      <td>-99.0</td>\n",
       "      <td>-99.0</td>\n",
       "      <td>28.27</td>\n",
       "    </tr>\n",
       "    <tr>\n",
       "      <th>4</th>\n",
       "      <td>Rain</td>\n",
       "      <td>41.13</td>\n",
       "      <td>12.34</td>\n",
       "      <td>31.93</td>\n",
       "      <td>-99.0</td>\n",
       "      <td>26.78</td>\n",
       "      <td>11.44</td>\n",
       "      <td>12.35</td>\n",
       "      <td>88.74</td>\n",
       "      <td>-99.0</td>\n",
       "      <td>-99.0</td>\n",
       "      <td>-99.0</td>\n",
       "      <td>27.99</td>\n",
       "    </tr>\n",
       "  </tbody>\n",
       "</table>\n",
       "</div>"
      ],
      "text/plain": [
       "  Rainfall  RHumid  DewPoint  MaxTemp  WindSpeed3pm  Temp9pm  MinTemp  \\\n",
       "0     Rain   47.25     14.12    32.66         -99.0    26.48    12.20   \n",
       "1  No_Rain   33.72      9.06    34.21         -99.0    26.76    13.79   \n",
       "2  No_Rain   31.13      7.88    35.13         -99.0    26.50    16.71   \n",
       "3  No_Rain   32.71      9.11    34.27         -99.0    26.99    15.53   \n",
       "4     Rain   41.13     12.34    31.93         -99.0    26.78    11.44   \n",
       "\n",
       "   WetBulbTemp  AirPres  Humid3pm  MaxWinSpeed  WinSpeed9pm  AvgTemp  \n",
       "0        14.12    88.75     -99.0        -99.0        -99.0    27.91  \n",
       "1         9.07    88.71     -99.0        -99.0        -99.0    27.50  \n",
       "2         7.89    88.67     -99.0        -99.0        -99.0    27.59  \n",
       "3         9.12    88.65     -99.0        -99.0        -99.0    28.27  \n",
       "4        12.35    88.74     -99.0        -99.0        -99.0    27.99  "
      ]
     },
     "execution_count": 3,
     "metadata": {},
     "output_type": "execute_result"
    }
   ],
   "source": [
    "df = pd.read_csv('Jinka 12.csv')\n",
    "df.head()"
   ]
  },
  {
   "cell_type": "code",
   "execution_count": 4,
   "metadata": {},
   "outputs": [
    {
     "data": {
      "text/plain": [
       "1    12641\n",
       "0     1605\n",
       "Name: Rainfall, dtype: int64"
      ]
     },
     "execution_count": 4,
     "metadata": {},
     "output_type": "execute_result"
    }
   ],
   "source": [
    "#df['Rainfall'].replace({'No_Rain': 0,'Rain': 1},inplace = True)\n",
    "#df['Rainfall'].value_counts()\n",
    "le = LabelEncoder()\n",
    "df['Rainfall'] = le.fit_transform(df['Rainfall'])\n",
    "df['Rainfall'].value_counts()"
   ]
  },
  {
   "cell_type": "code",
   "execution_count": 5,
   "metadata": {},
   "outputs": [
    {
     "data": {
      "text/html": [
       "<div>\n",
       "<style scoped>\n",
       "    .dataframe tbody tr th:only-of-type {\n",
       "        vertical-align: middle;\n",
       "    }\n",
       "\n",
       "    .dataframe tbody tr th {\n",
       "        vertical-align: top;\n",
       "    }\n",
       "\n",
       "    .dataframe thead th {\n",
       "        text-align: right;\n",
       "    }\n",
       "</style>\n",
       "<table border=\"1\" class=\"dataframe\">\n",
       "  <thead>\n",
       "    <tr style=\"text-align: right;\">\n",
       "      <th></th>\n",
       "      <th>RHumid</th>\n",
       "      <th>DewPoint</th>\n",
       "      <th>MaxTemp</th>\n",
       "      <th>WindSpeed3pm</th>\n",
       "      <th>Temp9pm</th>\n",
       "      <th>MinTemp</th>\n",
       "      <th>WetBulbTemp</th>\n",
       "      <th>AirPres</th>\n",
       "      <th>Humid3pm</th>\n",
       "      <th>MaxWinSpeed</th>\n",
       "      <th>WinSpeed9pm</th>\n",
       "      <th>AvgTemp</th>\n",
       "    </tr>\n",
       "  </thead>\n",
       "  <tbody>\n",
       "    <tr>\n",
       "      <th>0</th>\n",
       "      <td>47.25</td>\n",
       "      <td>14.12</td>\n",
       "      <td>32.66</td>\n",
       "      <td>-99.00</td>\n",
       "      <td>26.48</td>\n",
       "      <td>12.20</td>\n",
       "      <td>14.12</td>\n",
       "      <td>88.75</td>\n",
       "      <td>-99.00</td>\n",
       "      <td>-99.00</td>\n",
       "      <td>-99.00</td>\n",
       "      <td>27.91</td>\n",
       "    </tr>\n",
       "    <tr>\n",
       "      <th>1</th>\n",
       "      <td>33.72</td>\n",
       "      <td>9.06</td>\n",
       "      <td>34.21</td>\n",
       "      <td>-99.00</td>\n",
       "      <td>26.76</td>\n",
       "      <td>13.79</td>\n",
       "      <td>9.07</td>\n",
       "      <td>88.71</td>\n",
       "      <td>-99.00</td>\n",
       "      <td>-99.00</td>\n",
       "      <td>-99.00</td>\n",
       "      <td>27.50</td>\n",
       "    </tr>\n",
       "    <tr>\n",
       "      <th>2</th>\n",
       "      <td>31.13</td>\n",
       "      <td>7.88</td>\n",
       "      <td>35.13</td>\n",
       "      <td>-99.00</td>\n",
       "      <td>26.50</td>\n",
       "      <td>16.71</td>\n",
       "      <td>7.89</td>\n",
       "      <td>88.67</td>\n",
       "      <td>-99.00</td>\n",
       "      <td>-99.00</td>\n",
       "      <td>-99.00</td>\n",
       "      <td>27.59</td>\n",
       "    </tr>\n",
       "    <tr>\n",
       "      <th>3</th>\n",
       "      <td>32.71</td>\n",
       "      <td>9.11</td>\n",
       "      <td>34.27</td>\n",
       "      <td>-99.00</td>\n",
       "      <td>26.99</td>\n",
       "      <td>15.53</td>\n",
       "      <td>9.12</td>\n",
       "      <td>88.65</td>\n",
       "      <td>-99.00</td>\n",
       "      <td>-99.00</td>\n",
       "      <td>-99.00</td>\n",
       "      <td>28.27</td>\n",
       "    </tr>\n",
       "    <tr>\n",
       "      <th>4</th>\n",
       "      <td>41.13</td>\n",
       "      <td>12.34</td>\n",
       "      <td>31.93</td>\n",
       "      <td>-99.00</td>\n",
       "      <td>26.78</td>\n",
       "      <td>11.44</td>\n",
       "      <td>12.35</td>\n",
       "      <td>88.74</td>\n",
       "      <td>-99.00</td>\n",
       "      <td>-99.00</td>\n",
       "      <td>-99.00</td>\n",
       "      <td>27.99</td>\n",
       "    </tr>\n",
       "    <tr>\n",
       "      <th>...</th>\n",
       "      <td>...</td>\n",
       "      <td>...</td>\n",
       "      <td>...</td>\n",
       "      <td>...</td>\n",
       "      <td>...</td>\n",
       "      <td>...</td>\n",
       "      <td>...</td>\n",
       "      <td>...</td>\n",
       "      <td>...</td>\n",
       "      <td>...</td>\n",
       "      <td>...</td>\n",
       "      <td>...</td>\n",
       "    </tr>\n",
       "    <tr>\n",
       "      <th>11391</th>\n",
       "      <td>40.05</td>\n",
       "      <td>13.65</td>\n",
       "      <td>35.36</td>\n",
       "      <td>25.04</td>\n",
       "      <td>28.92</td>\n",
       "      <td>13.03</td>\n",
       "      <td>13.65</td>\n",
       "      <td>88.84</td>\n",
       "      <td>38.29</td>\n",
       "      <td>25.04</td>\n",
       "      <td>35.35</td>\n",
       "      <td>30.97</td>\n",
       "    </tr>\n",
       "    <tr>\n",
       "      <th>11392</th>\n",
       "      <td>52.55</td>\n",
       "      <td>16.52</td>\n",
       "      <td>31.74</td>\n",
       "      <td>-99.00</td>\n",
       "      <td>27.09</td>\n",
       "      <td>8.83</td>\n",
       "      <td>16.52</td>\n",
       "      <td>88.89</td>\n",
       "      <td>-99.00</td>\n",
       "      <td>-99.00</td>\n",
       "      <td>35.59</td>\n",
       "      <td>28.69</td>\n",
       "    </tr>\n",
       "    <tr>\n",
       "      <th>11393</th>\n",
       "      <td>57.39</td>\n",
       "      <td>17.65</td>\n",
       "      <td>33.65</td>\n",
       "      <td>19.96</td>\n",
       "      <td>26.92</td>\n",
       "      <td>11.93</td>\n",
       "      <td>17.65</td>\n",
       "      <td>88.82</td>\n",
       "      <td>37.29</td>\n",
       "      <td>19.96</td>\n",
       "      <td>36.88</td>\n",
       "      <td>28.30</td>\n",
       "    </tr>\n",
       "    <tr>\n",
       "      <th>11394</th>\n",
       "      <td>60.81</td>\n",
       "      <td>17.23</td>\n",
       "      <td>30.78</td>\n",
       "      <td>17.21</td>\n",
       "      <td>25.45</td>\n",
       "      <td>9.58</td>\n",
       "      <td>17.24</td>\n",
       "      <td>88.86</td>\n",
       "      <td>37.86</td>\n",
       "      <td>17.21</td>\n",
       "      <td>37.72</td>\n",
       "      <td>26.71</td>\n",
       "    </tr>\n",
       "    <tr>\n",
       "      <th>11395</th>\n",
       "      <td>54.77</td>\n",
       "      <td>16.22</td>\n",
       "      <td>32.15</td>\n",
       "      <td>20.47</td>\n",
       "      <td>26.14</td>\n",
       "      <td>11.55</td>\n",
       "      <td>16.22</td>\n",
       "      <td>88.88</td>\n",
       "      <td>37.27</td>\n",
       "      <td>20.47</td>\n",
       "      <td>37.05</td>\n",
       "      <td>27.33</td>\n",
       "    </tr>\n",
       "  </tbody>\n",
       "</table>\n",
       "<p>11396 rows × 12 columns</p>\n",
       "</div>"
      ],
      "text/plain": [
       "       RHumid  DewPoint  MaxTemp  WindSpeed3pm  Temp9pm  MinTemp  WetBulbTemp  \\\n",
       "0       47.25     14.12    32.66        -99.00    26.48    12.20        14.12   \n",
       "1       33.72      9.06    34.21        -99.00    26.76    13.79         9.07   \n",
       "2       31.13      7.88    35.13        -99.00    26.50    16.71         7.89   \n",
       "3       32.71      9.11    34.27        -99.00    26.99    15.53         9.12   \n",
       "4       41.13     12.34    31.93        -99.00    26.78    11.44        12.35   \n",
       "...       ...       ...      ...           ...      ...      ...          ...   \n",
       "11391   40.05     13.65    35.36         25.04    28.92    13.03        13.65   \n",
       "11392   52.55     16.52    31.74        -99.00    27.09     8.83        16.52   \n",
       "11393   57.39     17.65    33.65         19.96    26.92    11.93        17.65   \n",
       "11394   60.81     17.23    30.78         17.21    25.45     9.58        17.24   \n",
       "11395   54.77     16.22    32.15         20.47    26.14    11.55        16.22   \n",
       "\n",
       "       AirPres  Humid3pm  MaxWinSpeed  WinSpeed9pm  AvgTemp  \n",
       "0        88.75    -99.00       -99.00       -99.00    27.91  \n",
       "1        88.71    -99.00       -99.00       -99.00    27.50  \n",
       "2        88.67    -99.00       -99.00       -99.00    27.59  \n",
       "3        88.65    -99.00       -99.00       -99.00    28.27  \n",
       "4        88.74    -99.00       -99.00       -99.00    27.99  \n",
       "...        ...       ...          ...          ...      ...  \n",
       "11391    88.84     38.29        25.04        35.35    30.97  \n",
       "11392    88.89    -99.00       -99.00        35.59    28.69  \n",
       "11393    88.82     37.29        19.96        36.88    28.30  \n",
       "11394    88.86     37.86        17.21        37.72    26.71  \n",
       "11395    88.88     37.27        20.47        37.05    27.33  \n",
       "\n",
       "[11396 rows x 12 columns]"
      ]
     },
     "execution_count": 5,
     "metadata": {},
     "output_type": "execute_result"
    }
   ],
   "source": [
    "train_size = int(len(df)*0.80)\n",
    "train, test= df.iloc[:train_size], df.iloc[train_size:]\n",
    "\n",
    "x_train = train.iloc[:,1:13] \n",
    "y_train = train.iloc[:,0] \n",
    "x_test = test.iloc[:,1:13] \n",
    "y_test = test.iloc[:,0]\n",
    "x_train\n",
    "\n",
    "#X = df.iloc[:,1:15]\n",
    "#y = df.iloc[:,0]"
   ]
  },
  {
   "cell_type": "code",
   "execution_count": 6,
   "metadata": {},
   "outputs": [
    {
     "data": {
      "text/plain": [
       "((20188, 12), (20188,), (5094, 12), (5094,))"
      ]
     },
     "execution_count": 6,
     "metadata": {},
     "output_type": "execute_result"
    }
   ],
   "source": [
    "from imblearn.over_sampling import SMOTE\n",
    "oversample = SMOTE()\n",
    "x_train,y_train = oversample.fit_resample(x_train,y_train)\n",
    "x_test,y_test = oversample.fit_resample(x_test,y_test)\n",
    "\n",
    "x_train.shape, y_train.shape, x_test.shape,y_test.shape\n",
    "\n",
    "#X,y = oversample.fit_resample(X,y)\n",
    "\n",
    "#X.shape,y.shape"
   ]
  },
  {
   "cell_type": "code",
   "execution_count": 7,
   "metadata": {},
   "outputs": [],
   "source": [
    "# normalize features\n",
    "scaler = StandardScaler()\n",
    "x_train = scaler.fit_transform(x_train)\n",
    "x_test = scaler.fit_transform(x_test)\n",
    "\n",
    "#X = scaler.fit_transform(X)"
   ]
  },
  {
   "cell_type": "code",
   "execution_count": 8,
   "metadata": {},
   "outputs": [],
   "source": [
    "#x_train = x_train.values\n",
    "#x_test = x_test.values\n",
    "\n",
    "x_train = x_train.reshape((x_train.shape[0],1, x_train.shape[1]))\n",
    "x_test = x_test.reshape((x_test.shape[0],1,x_test.shape[1]))\n",
    "\n",
    "#X = X.reshape((X.shape[0],1,X.shape[1]))"
   ]
  },
  {
   "cell_type": "code",
   "execution_count": 9,
   "metadata": {},
   "outputs": [
    {
     "data": {
      "text/plain": [
       "2"
      ]
     },
     "execution_count": 9,
     "metadata": {},
     "output_type": "execute_result"
    }
   ],
   "source": [
    "#num_classes = len(np.unique(y_train))\n",
    "num_classes = len(np.unique(y_train))\n",
    "num_classes"
   ]
  },
  {
   "cell_type": "code",
   "execution_count": 10,
   "metadata": {},
   "outputs": [],
   "source": [
    "idx = np.random.permutation(len(x_train))\n",
    "x_train = x_train[idx]\n",
    "y_train = y_train[idx]\n",
    "\n",
    "y_train[y_train == -1] = 0\n",
    "y_test[y_test == -1] = 0"
   ]
  },
  {
   "cell_type": "code",
   "execution_count": 11,
   "metadata": {},
   "outputs": [
    {
     "data": {
      "text/plain": [
       "((20188, 1, 12), (20188,), (5094, 1, 12), (5094,))"
      ]
     },
     "execution_count": 11,
     "metadata": {},
     "output_type": "execute_result"
    }
   ],
   "source": [
    "#y_train = pd.get_dummies(y_train)\n",
    "#y_test = pd.get_dummies(y_test)\n",
    "\n",
    "y_train = y_train.values\n",
    "y_test = y_test.values\n",
    "x_train.shape,y_train.shape,x_test.shape,y_test.shape\n",
    "#y = pd.get_dummies(y)\n",
    "#X.shape,y.shape"
   ]
  },
  {
   "cell_type": "code",
   "execution_count": 53,
   "metadata": {},
   "outputs": [],
   "source": [
    "#def create_dataset (X, y, time_steps = 1):\n",
    " #   Xs, ys = [], []\n",
    "  #  \n",
    "   # for i in range(len(X)-time_steps):\n",
    "    #    v = X[i:i+time_steps, :]\n",
    "     #   Xs.append(v)\n",
    "      #  ys.append(y[i+time_steps])\n",
    "        \n",
    "    #return np.array(Xs), np.array(ys)\n",
    "#\n",
    "#TIME_STEPS = 1\n",
    "#x_train, y_train = create_dataset(x_train, y_train, TIME_STEPS)\n",
    "#x_test, y_test = create_dataset(x_test, y_test, TIME_STEPS)\n",
    "\n",
    "#x_train.shape, y_train.shape, x_test.shape, y_test.shape"
   ]
  },
  {
   "cell_type": "code",
   "execution_count": 12,
   "metadata": {},
   "outputs": [],
   "source": [
    "class_weight = {0 : 1. , 1: 1.}\n",
    "#class_weight = class_weight.compute_class_weight('balanced',\n",
    "#                                                np.unique(y_train),y_train)"
   ]
  },
  {
   "cell_type": "markdown",
   "metadata": {},
   "source": [
    "# Build a model"
   ]
  },
  {
   "cell_type": "code",
   "execution_count": 13,
   "metadata": {},
   "outputs": [
    {
     "name": "stdout",
     "output_type": "stream",
     "text": [
      "Model: \"sequential\"\n",
      "_________________________________________________________________\n",
      "Layer (type)                 Output Shape              Param #   \n",
      "=================================================================\n",
      "bidirectional (Bidirectional (None, 1, 256)            144384    \n",
      "_________________________________________________________________\n",
      "bidirectional_1 (Bidirection (None, 128)               164352    \n",
      "_________________________________________________________________\n",
      "dense (Dense)                (None, 1)                 129       \n",
      "=================================================================\n",
      "Total params: 308,865\n",
      "Trainable params: 308,865\n",
      "Non-trainable params: 0\n",
      "_________________________________________________________________\n"
     ]
    }
   ],
   "source": [
    "model = Sequential()\n",
    "model.add(Bidirectional(LSTM(128,kernel_regularizer=regularizers.l2(0.01),recurrent_dropout=0.2,activation='relu',return_sequences=True),input_shape=(x_train.shape[1],x_train.shape[2])))\n",
    "model.add(Bidirectional(LSTM(64,kernel_regularizer=regularizers.l2(0.01),recurrent_dropout=0.2,activation='relu',return_sequences=False)))\n",
    "model.add(Dense(1,activation='sigmoid'))\n",
    "model.compile(optimizer='adam',loss=\"binary_crossentropy\",metrics=[\"accuracy\"])\n",
    "\n",
    "model.summary()"
   ]
  },
  {
   "cell_type": "markdown",
   "metadata": {},
   "source": [
    "# Train the model"
   ]
  },
  {
   "cell_type": "code",
   "execution_count": 14,
   "metadata": {},
   "outputs": [],
   "source": [
    "callbacks = [\n",
    "    keras.callbacks.ModelCheckpoint(\n",
    "        \"best_model.h5\", save_best_only=True, monitor=\"val_loss\"\n",
    "    ),\n",
    "    keras.callbacks.ReduceLROnPlateau(\n",
    "        monitor=\"val_loss\", factor=0.5, patience=20, min_lr=0.0001\n",
    "    ),\n",
    "    keras.callbacks.EarlyStopping(monitor=\"val_loss\", patience=50, verbose=1),\n",
    "]"
   ]
  },
  {
   "cell_type": "code",
   "execution_count": 60,
   "metadata": {},
   "outputs": [],
   "source": [
    "# simple early stopping\n",
    "from keras.callbacks import ModelCheckpoint, EarlyStopping\n",
    "es = EarlyStopping(monitor='val_loss', mode='min', verbose=0, patience=10)\n",
    "mc = ModelCheckpoint('best_model.h5', monitor='val_accuracy', mode='max', verbose=1, save_best_only=True)"
   ]
  },
  {
   "cell_type": "code",
   "execution_count": 15,
   "metadata": {},
   "outputs": [
    {
     "name": "stdout",
     "output_type": "stream",
     "text": [
      "Epoch 1/100\n",
      "631/631 [==============================] - 43s 28ms/step - loss: 1.5338 - accuracy: 0.8478 - val_loss: 0.3226 - val_accuracy: 0.8903\n",
      "Epoch 2/100\n",
      "631/631 [==============================] - 12s 20ms/step - loss: 0.3595 - accuracy: 0.8687 - val_loss: 0.2982 - val_accuracy: 0.8920\n",
      "Epoch 3/100\n",
      "631/631 [==============================] - 12s 20ms/step - loss: 0.3435 - accuracy: 0.8694 - val_loss: 0.2874 - val_accuracy: 0.8936\n",
      "Epoch 4/100\n",
      "631/631 [==============================] - 12s 20ms/step - loss: 0.3355 - accuracy: 0.8701 - val_loss: 0.2810 - val_accuracy: 0.8928\n",
      "Epoch 5/100\n",
      "631/631 [==============================] - 12s 19ms/step - loss: 0.3305 - accuracy: 0.8703 - val_loss: 0.2771 - val_accuracy: 0.8934\n",
      "Epoch 6/100\n",
      "631/631 [==============================] - 12s 18ms/step - loss: 0.3271 - accuracy: 0.8698 - val_loss: 0.2744 - val_accuracy: 0.8948\n",
      "Epoch 7/100\n",
      "631/631 [==============================] - 12s 20ms/step - loss: 0.3246 - accuracy: 0.8694 - val_loss: 0.2723 - val_accuracy: 0.8956\n",
      "Epoch 8/100\n",
      "631/631 [==============================] - 13s 20ms/step - loss: 0.3227 - accuracy: 0.8695 - val_loss: 0.2706 - val_accuracy: 0.8960\n",
      "Epoch 9/100\n",
      "631/631 [==============================] - 13s 21ms/step - loss: 0.3211 - accuracy: 0.8693 - val_loss: 0.2691 - val_accuracy: 0.8958\n",
      "Epoch 10/100\n",
      "631/631 [==============================] - 13s 20ms/step - loss: 0.3198 - accuracy: 0.8693 - val_loss: 0.2677 - val_accuracy: 0.8952\n",
      "Epoch 11/100\n",
      "631/631 [==============================] - 13s 20ms/step - loss: 0.3187 - accuracy: 0.8693 - val_loss: 0.2665 - val_accuracy: 0.8950\n",
      "Epoch 12/100\n",
      "631/631 [==============================] - 13s 20ms/step - loss: 0.3177 - accuracy: 0.8695 - val_loss: 0.2655 - val_accuracy: 0.8950\n",
      "Epoch 13/100\n",
      "631/631 [==============================] - 13s 21ms/step - loss: 0.3169 - accuracy: 0.8695 - val_loss: 0.2644 - val_accuracy: 0.8944\n",
      "Epoch 14/100\n",
      "631/631 [==============================] - 13s 20ms/step - loss: 0.3161 - accuracy: 0.8697 - val_loss: 0.2636 - val_accuracy: 0.8940\n",
      "Epoch 15/100\n",
      "631/631 [==============================] - 13s 20ms/step - loss: 0.3154 - accuracy: 0.8696 - val_loss: 0.2627 - val_accuracy: 0.8934\n",
      "Epoch 16/100\n",
      "631/631 [==============================] - 12s 20ms/step - loss: 0.3147 - accuracy: 0.8696 - val_loss: 0.2618 - val_accuracy: 0.8932\n",
      "Epoch 17/100\n",
      "631/631 [==============================] - 13s 20ms/step - loss: 0.3141 - accuracy: 0.8694 - val_loss: 0.2610 - val_accuracy: 0.8934\n",
      "Epoch 18/100\n",
      "631/631 [==============================] - 13s 20ms/step - loss: 0.3136 - accuracy: 0.8693 - val_loss: 0.2604 - val_accuracy: 0.8938\n",
      "Epoch 19/100\n",
      "631/631 [==============================] - 13s 21ms/step - loss: 0.3131 - accuracy: 0.8695 - val_loss: 0.2598 - val_accuracy: 0.8936\n",
      "Epoch 20/100\n",
      "631/631 [==============================] - 14s 21ms/step - loss: 0.3126 - accuracy: 0.8694 - val_loss: 0.2593 - val_accuracy: 0.8938\n",
      "Epoch 21/100\n",
      "631/631 [==============================] - 13s 21ms/step - loss: 0.3122 - accuracy: 0.8693 - val_loss: 0.2588 - val_accuracy: 0.8940\n",
      "Epoch 22/100\n",
      "631/631 [==============================] - 12s 20ms/step - loss: 0.3118 - accuracy: 0.8692 - val_loss: 0.2583 - val_accuracy: 0.8940\n",
      "Epoch 23/100\n",
      "631/631 [==============================] - 12s 20ms/step - loss: 0.3114 - accuracy: 0.8694 - val_loss: 0.2578 - val_accuracy: 0.8942\n",
      "Epoch 24/100\n",
      "631/631 [==============================] - 13s 20ms/step - loss: 0.3111 - accuracy: 0.8695 - val_loss: 0.2574 - val_accuracy: 0.8942\n",
      "Epoch 25/100\n",
      "631/631 [==============================] - 13s 21ms/step - loss: 0.3107 - accuracy: 0.8697 - val_loss: 0.2571 - val_accuracy: 0.8944\n",
      "Epoch 26/100\n",
      "631/631 [==============================] - 13s 21ms/step - loss: 0.3104 - accuracy: 0.8699 - val_loss: 0.2567 - val_accuracy: 0.8950\n",
      "Epoch 27/100\n",
      "631/631 [==============================] - 12s 19ms/step - loss: 0.3101 - accuracy: 0.8700 - val_loss: 0.2563 - val_accuracy: 0.8952\n",
      "Epoch 28/100\n",
      "631/631 [==============================] - 12s 20ms/step - loss: 0.3097 - accuracy: 0.8702 - val_loss: 0.2560 - val_accuracy: 0.8950\n",
      "Epoch 29/100\n",
      "631/631 [==============================] - 13s 20ms/step - loss: 0.3094 - accuracy: 0.8703 - val_loss: 0.2557 - val_accuracy: 0.8948\n",
      "Epoch 30/100\n",
      "631/631 [==============================] - 13s 20ms/step - loss: 0.3092 - accuracy: 0.8702 - val_loss: 0.2554 - val_accuracy: 0.8946\n",
      "Epoch 31/100\n",
      "631/631 [==============================] - 13s 20ms/step - loss: 0.3089 - accuracy: 0.8701 - val_loss: 0.2551 - val_accuracy: 0.8948\n",
      "Epoch 32/100\n",
      "631/631 [==============================] - 13s 20ms/step - loss: 0.3087 - accuracy: 0.8702 - val_loss: 0.2548 - val_accuracy: 0.8946\n",
      "Epoch 33/100\n",
      "631/631 [==============================] - 13s 20ms/step - loss: 0.3084 - accuracy: 0.8704 - val_loss: 0.2544 - val_accuracy: 0.8944\n",
      "Epoch 34/100\n",
      "631/631 [==============================] - 12s 20ms/step - loss: 0.3081 - accuracy: 0.8706 - val_loss: 0.2541 - val_accuracy: 0.8942\n",
      "Epoch 35/100\n",
      "631/631 [==============================] - 13s 20ms/step - loss: 0.3079 - accuracy: 0.8709 - val_loss: 0.2537 - val_accuracy: 0.8940\n",
      "Epoch 36/100\n",
      "631/631 [==============================] - 13s 21ms/step - loss: 0.3076 - accuracy: 0.8708 - val_loss: 0.2535 - val_accuracy: 0.8940\n",
      "Epoch 37/100\n",
      "631/631 [==============================] - 14s 22ms/step - loss: 0.3074 - accuracy: 0.8709 - val_loss: 0.2533 - val_accuracy: 0.8942\n",
      "Epoch 38/100\n",
      "631/631 [==============================] - 14s 23ms/step - loss: 0.3072 - accuracy: 0.8711 - val_loss: 0.2532 - val_accuracy: 0.8942\n",
      "Epoch 39/100\n",
      "631/631 [==============================] - 14s 22ms/step - loss: 0.3070 - accuracy: 0.8711 - val_loss: 0.2529 - val_accuracy: 0.8944\n",
      "Epoch 40/100\n",
      "631/631 [==============================] - 12s 19ms/step - loss: 0.3068 - accuracy: 0.8712 - val_loss: 0.2527 - val_accuracy: 0.8950\n",
      "Epoch 41/100\n",
      "631/631 [==============================] - 13s 20ms/step - loss: 0.3066 - accuracy: 0.8715 - val_loss: 0.2525 - val_accuracy: 0.8954\n",
      "Epoch 42/100\n",
      "631/631 [==============================] - 13s 20ms/step - loss: 0.3064 - accuracy: 0.8714 - val_loss: 0.2523 - val_accuracy: 0.8950\n",
      "Epoch 43/100\n",
      "631/631 [==============================] - 13s 21ms/step - loss: 0.3062 - accuracy: 0.8716 - val_loss: 0.2521 - val_accuracy: 0.8954\n",
      "Epoch 44/100\n",
      "631/631 [==============================] - 14s 22ms/step - loss: 0.3061 - accuracy: 0.8716 - val_loss: 0.2520 - val_accuracy: 0.8952\n",
      "Epoch 45/100\n",
      "631/631 [==============================] - 13s 21ms/step - loss: 0.3059 - accuracy: 0.8715 - val_loss: 0.2517 - val_accuracy: 0.8958\n",
      "Epoch 46/100\n",
      "631/631 [==============================] - 14s 22ms/step - loss: 0.3057 - accuracy: 0.8715 - val_loss: 0.2516 - val_accuracy: 0.8956\n",
      "Epoch 47/100\n",
      "631/631 [==============================] - 14s 22ms/step - loss: 0.3056 - accuracy: 0.8715 - val_loss: 0.2516 - val_accuracy: 0.8960\n",
      "Epoch 48/100\n",
      "631/631 [==============================] - 14s 22ms/step - loss: 0.3054 - accuracy: 0.8714 - val_loss: 0.2513 - val_accuracy: 0.8965\n",
      "Epoch 49/100\n",
      "631/631 [==============================] - 15s 23ms/step - loss: 0.3053 - accuracy: 0.8714 - val_loss: 0.2512 - val_accuracy: 0.8967\n",
      "Epoch 50/100\n",
      "631/631 [==============================] - 14s 22ms/step - loss: 0.3051 - accuracy: 0.8713 - val_loss: 0.2510 - val_accuracy: 0.8965\n",
      "Epoch 51/100\n",
      "631/631 [==============================] - 14s 22ms/step - loss: 0.3050 - accuracy: 0.8713 - val_loss: 0.2508 - val_accuracy: 0.8973\n",
      "Epoch 52/100\n",
      "631/631 [==============================] - 14s 22ms/step - loss: 0.3049 - accuracy: 0.8711 - val_loss: 0.2507 - val_accuracy: 0.8971\n",
      "Epoch 53/100\n",
      "631/631 [==============================] - 14s 22ms/step - loss: 0.3047 - accuracy: 0.8711 - val_loss: 0.2505 - val_accuracy: 0.8971\n",
      "Epoch 54/100\n",
      "631/631 [==============================] - 14s 22ms/step - loss: 0.3046 - accuracy: 0.8710 - val_loss: 0.2503 - val_accuracy: 0.8979\n",
      "Epoch 55/100\n",
      "631/631 [==============================] - 14s 21ms/step - loss: 0.3044 - accuracy: 0.8712 - val_loss: 0.2500 - val_accuracy: 0.8983\n",
      "Epoch 56/100\n",
      "631/631 [==============================] - 14s 22ms/step - loss: 0.3043 - accuracy: 0.8709 - val_loss: 0.2498 - val_accuracy: 0.8979\n",
      "Epoch 57/100\n"
     ]
    },
    {
     "name": "stdout",
     "output_type": "stream",
     "text": [
      "631/631 [==============================] - 12s 19ms/step - loss: 0.3041 - accuracy: 0.8710 - val_loss: 0.2495 - val_accuracy: 0.8979\n",
      "Epoch 58/100\n",
      "631/631 [==============================] - 12s 19ms/step - loss: 0.3040 - accuracy: 0.8711 - val_loss: 0.2493 - val_accuracy: 0.8975\n",
      "Epoch 59/100\n",
      "631/631 [==============================] - 12s 19ms/step - loss: 0.3038 - accuracy: 0.8713 - val_loss: 0.2490 - val_accuracy: 0.8973\n",
      "Epoch 60/100\n",
      "631/631 [==============================] - 13s 21ms/step - loss: 0.3037 - accuracy: 0.8711 - val_loss: 0.2487 - val_accuracy: 0.8975\n",
      "Epoch 61/100\n",
      "631/631 [==============================] - 12s 20ms/step - loss: 0.3036 - accuracy: 0.8713 - val_loss: 0.2487 - val_accuracy: 0.8971\n",
      "Epoch 62/100\n",
      "631/631 [==============================] - 12s 19ms/step - loss: 0.3035 - accuracy: 0.8712 - val_loss: 0.2485 - val_accuracy: 0.8971\n",
      "Epoch 63/100\n",
      "631/631 [==============================] - 13s 20ms/step - loss: 0.3034 - accuracy: 0.8714 - val_loss: 0.2484 - val_accuracy: 0.8971\n",
      "Epoch 64/100\n",
      "631/631 [==============================] - 14s 22ms/step - loss: 0.3033 - accuracy: 0.8712 - val_loss: 0.2483 - val_accuracy: 0.8975\n",
      "Epoch 65/100\n",
      "631/631 [==============================] - 14s 21ms/step - loss: 0.3032 - accuracy: 0.8715 - val_loss: 0.2483 - val_accuracy: 0.8977\n",
      "Epoch 66/100\n",
      "631/631 [==============================] - 13s 21ms/step - loss: 0.3031 - accuracy: 0.8715 - val_loss: 0.2482 - val_accuracy: 0.8977\n",
      "Epoch 67/100\n",
      "631/631 [==============================] - 14s 22ms/step - loss: 0.3030 - accuracy: 0.8713 - val_loss: 0.2482 - val_accuracy: 0.8981\n",
      "Epoch 68/100\n",
      "631/631 [==============================] - 14s 22ms/step - loss: 0.3029 - accuracy: 0.8714 - val_loss: 0.2481 - val_accuracy: 0.8983\n",
      "Epoch 69/100\n",
      "631/631 [==============================] - 14s 22ms/step - loss: 0.3028 - accuracy: 0.8717 - val_loss: 0.2480 - val_accuracy: 0.8991\n",
      "Epoch 70/100\n",
      "631/631 [==============================] - 14s 22ms/step - loss: 0.3027 - accuracy: 0.8720 - val_loss: 0.2479 - val_accuracy: 0.8991\n",
      "Epoch 71/100\n",
      "631/631 [==============================] - 14s 21ms/step - loss: 0.3026 - accuracy: 0.8715 - val_loss: 0.2478 - val_accuracy: 0.8991\n",
      "Epoch 72/100\n",
      "631/631 [==============================] - 13s 21ms/step - loss: 0.3025 - accuracy: 0.8716 - val_loss: 0.2477 - val_accuracy: 0.8991\n",
      "Epoch 73/100\n",
      "631/631 [==============================] - 13s 21ms/step - loss: 0.3024 - accuracy: 0.8717 - val_loss: 0.2476 - val_accuracy: 0.8989\n",
      "Epoch 74/100\n",
      "631/631 [==============================] - 15s 23ms/step - loss: 0.3023 - accuracy: 0.8713 - val_loss: 0.2475 - val_accuracy: 0.8989\n",
      "Epoch 75/100\n",
      "631/631 [==============================] - 14s 22ms/step - loss: 0.3022 - accuracy: 0.8713 - val_loss: 0.2475 - val_accuracy: 0.8989\n",
      "Epoch 76/100\n",
      "631/631 [==============================] - 14s 22ms/step - loss: 0.3021 - accuracy: 0.8713 - val_loss: 0.2472 - val_accuracy: 0.8991\n",
      "Epoch 77/100\n",
      "631/631 [==============================] - 14s 23ms/step - loss: 0.3020 - accuracy: 0.8714 - val_loss: 0.2473 - val_accuracy: 0.8993\n",
      "Epoch 78/100\n",
      "631/631 [==============================] - 14s 22ms/step - loss: 0.3019 - accuracy: 0.8711 - val_loss: 0.2473 - val_accuracy: 0.8995\n",
      "Epoch 79/100\n",
      "631/631 [==============================] - 14s 22ms/step - loss: 0.3018 - accuracy: 0.8711 - val_loss: 0.2472 - val_accuracy: 0.8997\n",
      "Epoch 80/100\n",
      "631/631 [==============================] - 13s 21ms/step - loss: 0.3017 - accuracy: 0.8710 - val_loss: 0.2472 - val_accuracy: 0.8995\n",
      "Epoch 81/100\n",
      "631/631 [==============================] - 14s 22ms/step - loss: 0.3016 - accuracy: 0.8710 - val_loss: 0.2471 - val_accuracy: 0.8995\n",
      "Epoch 82/100\n",
      "631/631 [==============================] - 13s 21ms/step - loss: 0.3016 - accuracy: 0.8709 - val_loss: 0.2471 - val_accuracy: 0.8997\n",
      "Epoch 83/100\n",
      "631/631 [==============================] - 14s 22ms/step - loss: 0.3015 - accuracy: 0.8710 - val_loss: 0.2469 - val_accuracy: 0.8999\n",
      "Epoch 84/100\n",
      "631/631 [==============================] - 14s 22ms/step - loss: 0.3015 - accuracy: 0.8712 - val_loss: 0.2469 - val_accuracy: 0.8997\n",
      "Epoch 85/100\n",
      "631/631 [==============================] - 14s 22ms/step - loss: 0.3014 - accuracy: 0.8713 - val_loss: 0.2469 - val_accuracy: 0.8999\n",
      "Epoch 86/100\n",
      "631/631 [==============================] - 14s 22ms/step - loss: 0.3013 - accuracy: 0.8715 - val_loss: 0.2468 - val_accuracy: 0.8997\n",
      "Epoch 87/100\n",
      "631/631 [==============================] - 14s 22ms/step - loss: 0.3013 - accuracy: 0.8716 - val_loss: 0.2468 - val_accuracy: 0.8995\n",
      "Epoch 88/100\n",
      "631/631 [==============================] - 14s 22ms/step - loss: 0.3012 - accuracy: 0.8717 - val_loss: 0.2469 - val_accuracy: 0.8997\n",
      "Epoch 89/100\n",
      "631/631 [==============================] - 14s 21ms/step - loss: 0.3012 - accuracy: 0.8718 - val_loss: 0.2470 - val_accuracy: 0.8997\n",
      "Epoch 90/100\n",
      "631/631 [==============================] - 14s 22ms/step - loss: 0.3011 - accuracy: 0.8718 - val_loss: 0.2470 - val_accuracy: 0.8999\n",
      "Epoch 91/100\n",
      "631/631 [==============================] - 14s 22ms/step - loss: 0.3010 - accuracy: 0.8719 - val_loss: 0.2469 - val_accuracy: 0.8999\n",
      "Epoch 92/100\n",
      "631/631 [==============================] - 14s 22ms/step - loss: 0.3010 - accuracy: 0.8718 - val_loss: 0.2469 - val_accuracy: 0.8999\n",
      "Epoch 93/100\n",
      "631/631 [==============================] - 14s 22ms/step - loss: 0.3010 - accuracy: 0.8719 - val_loss: 0.2468 - val_accuracy: 0.8999\n",
      "Epoch 94/100\n",
      "631/631 [==============================] - 14s 22ms/step - loss: 0.3009 - accuracy: 0.8721 - val_loss: 0.2468 - val_accuracy: 0.8999\n",
      "Epoch 95/100\n",
      "631/631 [==============================] - 14s 21ms/step - loss: 0.3009 - accuracy: 0.8722 - val_loss: 0.2468 - val_accuracy: 0.8999\n",
      "Epoch 96/100\n",
      "631/631 [==============================] - 13s 21ms/step - loss: 0.3008 - accuracy: 0.8725 - val_loss: 0.2467 - val_accuracy: 0.8997\n",
      "Epoch 97/100\n",
      "631/631 [==============================] - 13s 21ms/step - loss: 0.3008 - accuracy: 0.8725 - val_loss: 0.2467 - val_accuracy: 0.8997\n",
      "Epoch 98/100\n",
      "631/631 [==============================] - 14s 22ms/step - loss: 0.3007 - accuracy: 0.8726 - val_loss: 0.2467 - val_accuracy: 0.8997\n",
      "Epoch 99/100\n",
      "631/631 [==============================] - 14s 23ms/step - loss: 0.3007 - accuracy: 0.8726 - val_loss: 0.2467 - val_accuracy: 0.9003\n",
      "Epoch 100/100\n",
      "631/631 [==============================] - 14s 23ms/step - loss: 0.3007 - accuracy: 0.8725 - val_loss: 0.2467 - val_accuracy: 0.9003\n"
     ]
    }
   ],
   "source": [
    "epochs = 100\n",
    "batch_size = 32\n",
    "history = model.fit(x_train, y_train, batch_size=batch_size,epochs=epochs,class_weight=class_weight,\n",
    "callbacks=callbacks, validation_data=(x_test,y_test), shuffle = False, verbose=1)"
   ]
  },
  {
   "cell_type": "markdown",
   "metadata": {},
   "source": [
    "# Create Pickle file"
   ]
  },
  {
   "cell_type": "code",
   "execution_count": 16,
   "metadata": {},
   "outputs": [],
   "source": [
    "model= model.save('lstm_model.h5') # save the model as .h5 file"
   ]
  },
  {
   "cell_type": "markdown",
   "metadata": {},
   "source": [
    "# Evaluate model on test data"
   ]
  },
  {
   "cell_type": "code",
   "execution_count": 17,
   "metadata": {},
   "outputs": [
    {
     "ename": "AttributeError",
     "evalue": "'NoneType' object has no attribute 'evaluate'",
     "output_type": "error",
     "traceback": [
      "\u001b[1;31m---------------------------------------------------------------------------\u001b[0m",
      "\u001b[1;31mAttributeError\u001b[0m                            Traceback (most recent call last)",
      "\u001b[1;32m<ipython-input-17-113a54cbdef7>\u001b[0m in \u001b[0;36m<module>\u001b[1;34m\u001b[0m\n\u001b[1;32m----> 1\u001b[1;33m \u001b[0mmodel\u001b[0m\u001b[1;33m.\u001b[0m\u001b[0mevaluate\u001b[0m\u001b[1;33m(\u001b[0m\u001b[0mx_test\u001b[0m\u001b[1;33m,\u001b[0m \u001b[0my_test\u001b[0m\u001b[1;33m)\u001b[0m\u001b[1;33m\u001b[0m\u001b[1;33m\u001b[0m\u001b[0m\n\u001b[0m",
      "\u001b[1;31mAttributeError\u001b[0m: 'NoneType' object has no attribute 'evaluate'"
     ]
    }
   ],
   "source": [
    "model.evaluate(x_test, y_test)"
   ]
  },
  {
   "cell_type": "code",
   "execution_count": 18,
   "metadata": {},
   "outputs": [
    {
     "name": "stdout",
     "output_type": "stream",
     "text": [
      "160/160 [==============================] - 4s 5ms/step - loss: 0.2467 - accuracy: 0.9003\n",
      "Test accuracy 0.9002748131752014\n",
      "Test loss 0.24666619300842285\n"
     ]
    }
   ],
   "source": [
    "model = keras.models.load_model(\"best_model.h5\")\n",
    "\n",
    "test_loss, test_acc = model.evaluate(x_test, y_test)\n",
    "\n",
    "print(\"Test accuracy\", test_acc)\n",
    "print(\"Test loss\", test_loss)"
   ]
  },
  {
   "cell_type": "code",
   "execution_count": 19,
   "metadata": {},
   "outputs": [
    {
     "ename": "InvalidArgumentError",
     "evalue": "Expected dimension in the range [-1, 1), but got 1 [Op:ArgMax]",
     "output_type": "error",
     "traceback": [
      "\u001b[1;31m---------------------------------------------------------------------------\u001b[0m",
      "\u001b[1;31mInvalidArgumentError\u001b[0m                      Traceback (most recent call last)",
      "\u001b[1;32m<ipython-input-19-978df1272125>\u001b[0m in \u001b[0;36m<module>\u001b[1;34m\u001b[0m\n\u001b[0;32m      3\u001b[0m \u001b[0my_pred\u001b[0m \u001b[1;33m=\u001b[0m \u001b[0mmodel\u001b[0m\u001b[1;33m.\u001b[0m\u001b[0mpredict\u001b[0m\u001b[1;33m(\u001b[0m\u001b[0mx_test\u001b[0m\u001b[1;33m)\u001b[0m\u001b[1;33m\u001b[0m\u001b[1;33m\u001b[0m\u001b[0m\n\u001b[0;32m      4\u001b[0m \u001b[0mnum_classes\u001b[0m \u001b[1;33m=\u001b[0m \u001b[1;36m2\u001b[0m\u001b[1;33m\u001b[0m\u001b[1;33m\u001b[0m\u001b[0m\n\u001b[1;32m----> 5\u001b[1;33m \u001b[0my_true\u001b[0m \u001b[1;33m=\u001b[0m \u001b[0mtf\u001b[0m\u001b[1;33m.\u001b[0m\u001b[0margmax\u001b[0m\u001b[1;33m(\u001b[0m\u001b[0my_test\u001b[0m\u001b[1;33m,\u001b[0m \u001b[0maxis\u001b[0m \u001b[1;33m=\u001b[0m \u001b[1;36m1\u001b[0m\u001b[1;33m)\u001b[0m\u001b[1;33m\u001b[0m\u001b[1;33m\u001b[0m\u001b[0m\n\u001b[0m\u001b[0;32m      6\u001b[0m \u001b[0my_pred\u001b[0m \u001b[1;33m=\u001b[0m \u001b[0mtf\u001b[0m\u001b[1;33m.\u001b[0m\u001b[0margmax\u001b[0m\u001b[1;33m(\u001b[0m\u001b[0my_pred\u001b[0m\u001b[1;33m,\u001b[0m \u001b[0maxis\u001b[0m \u001b[1;33m=\u001b[0m \u001b[1;36m1\u001b[0m\u001b[1;33m)\u001b[0m\u001b[1;33m\u001b[0m\u001b[1;33m\u001b[0m\u001b[0m\n",
      "\u001b[1;32m~\\AppData\\Roaming\\Python\\Python36\\site-packages\\tensorflow\\python\\util\\dispatch.py\u001b[0m in \u001b[0;36mwrapper\u001b[1;34m(*args, **kwargs)\u001b[0m\n\u001b[0;32m    199\u001b[0m     \u001b[1;34m\"\"\"Call target, and fall back on dispatchers if there is a TypeError.\"\"\"\u001b[0m\u001b[1;33m\u001b[0m\u001b[1;33m\u001b[0m\u001b[0m\n\u001b[0;32m    200\u001b[0m     \u001b[1;32mtry\u001b[0m\u001b[1;33m:\u001b[0m\u001b[1;33m\u001b[0m\u001b[1;33m\u001b[0m\u001b[0m\n\u001b[1;32m--> 201\u001b[1;33m       \u001b[1;32mreturn\u001b[0m \u001b[0mtarget\u001b[0m\u001b[1;33m(\u001b[0m\u001b[1;33m*\u001b[0m\u001b[0margs\u001b[0m\u001b[1;33m,\u001b[0m \u001b[1;33m**\u001b[0m\u001b[0mkwargs\u001b[0m\u001b[1;33m)\u001b[0m\u001b[1;33m\u001b[0m\u001b[1;33m\u001b[0m\u001b[0m\n\u001b[0m\u001b[0;32m    202\u001b[0m     \u001b[1;32mexcept\u001b[0m \u001b[1;33m(\u001b[0m\u001b[0mTypeError\u001b[0m\u001b[1;33m,\u001b[0m \u001b[0mValueError\u001b[0m\u001b[1;33m)\u001b[0m\u001b[1;33m:\u001b[0m\u001b[1;33m\u001b[0m\u001b[1;33m\u001b[0m\u001b[0m\n\u001b[0;32m    203\u001b[0m       \u001b[1;31m# Note: convert_to_eager_tensor currently raises a ValueError, not a\u001b[0m\u001b[1;33m\u001b[0m\u001b[1;33m\u001b[0m\u001b[1;33m\u001b[0m\u001b[0m\n",
      "\u001b[1;32m~\\AppData\\Roaming\\Python\\Python36\\site-packages\\tensorflow\\python\\ops\\math_ops.py\u001b[0m in \u001b[0;36margmax_v2\u001b[1;34m(input, axis, output_type, name)\u001b[0m\n\u001b[0;32m    293\u001b[0m   \u001b[1;32mif\u001b[0m \u001b[0maxis\u001b[0m \u001b[1;32mis\u001b[0m \u001b[1;32mNone\u001b[0m\u001b[1;33m:\u001b[0m\u001b[1;33m\u001b[0m\u001b[1;33m\u001b[0m\u001b[0m\n\u001b[0;32m    294\u001b[0m     \u001b[0maxis\u001b[0m \u001b[1;33m=\u001b[0m \u001b[1;36m0\u001b[0m\u001b[1;33m\u001b[0m\u001b[1;33m\u001b[0m\u001b[0m\n\u001b[1;32m--> 295\u001b[1;33m   \u001b[1;32mreturn\u001b[0m \u001b[0mgen_math_ops\u001b[0m\u001b[1;33m.\u001b[0m\u001b[0marg_max\u001b[0m\u001b[1;33m(\u001b[0m\u001b[0minput\u001b[0m\u001b[1;33m,\u001b[0m \u001b[0maxis\u001b[0m\u001b[1;33m,\u001b[0m \u001b[0mname\u001b[0m\u001b[1;33m=\u001b[0m\u001b[0mname\u001b[0m\u001b[1;33m,\u001b[0m \u001b[0moutput_type\u001b[0m\u001b[1;33m=\u001b[0m\u001b[0moutput_type\u001b[0m\u001b[1;33m)\u001b[0m\u001b[1;33m\u001b[0m\u001b[1;33m\u001b[0m\u001b[0m\n\u001b[0m\u001b[0;32m    296\u001b[0m \u001b[1;33m\u001b[0m\u001b[0m\n\u001b[0;32m    297\u001b[0m \u001b[1;33m\u001b[0m\u001b[0m\n",
      "\u001b[1;32m~\\AppData\\Roaming\\Python\\Python36\\site-packages\\tensorflow\\python\\ops\\gen_math_ops.py\u001b[0m in \u001b[0;36marg_max\u001b[1;34m(input, dimension, output_type, name)\u001b[0m\n\u001b[0;32m    831\u001b[0m       \u001b[1;32mreturn\u001b[0m \u001b[0m_result\u001b[0m\u001b[1;33m\u001b[0m\u001b[1;33m\u001b[0m\u001b[0m\n\u001b[0;32m    832\u001b[0m     \u001b[1;32mexcept\u001b[0m \u001b[0m_core\u001b[0m\u001b[1;33m.\u001b[0m\u001b[0m_NotOkStatusException\u001b[0m \u001b[1;32mas\u001b[0m \u001b[0me\u001b[0m\u001b[1;33m:\u001b[0m\u001b[1;33m\u001b[0m\u001b[1;33m\u001b[0m\u001b[0m\n\u001b[1;32m--> 833\u001b[1;33m       \u001b[0m_ops\u001b[0m\u001b[1;33m.\u001b[0m\u001b[0mraise_from_not_ok_status\u001b[0m\u001b[1;33m(\u001b[0m\u001b[0me\u001b[0m\u001b[1;33m,\u001b[0m \u001b[0mname\u001b[0m\u001b[1;33m)\u001b[0m\u001b[1;33m\u001b[0m\u001b[1;33m\u001b[0m\u001b[0m\n\u001b[0m\u001b[0;32m    834\u001b[0m     \u001b[1;32mexcept\u001b[0m \u001b[0m_core\u001b[0m\u001b[1;33m.\u001b[0m\u001b[0m_FallbackException\u001b[0m\u001b[1;33m:\u001b[0m\u001b[1;33m\u001b[0m\u001b[1;33m\u001b[0m\u001b[0m\n\u001b[0;32m    835\u001b[0m       \u001b[1;32mpass\u001b[0m\u001b[1;33m\u001b[0m\u001b[1;33m\u001b[0m\u001b[0m\n",
      "\u001b[1;32m~\\AppData\\Roaming\\Python\\Python36\\site-packages\\tensorflow\\python\\framework\\ops.py\u001b[0m in \u001b[0;36mraise_from_not_ok_status\u001b[1;34m(e, name)\u001b[0m\n\u001b[0;32m   6860\u001b[0m   \u001b[0mmessage\u001b[0m \u001b[1;33m=\u001b[0m \u001b[0me\u001b[0m\u001b[1;33m.\u001b[0m\u001b[0mmessage\u001b[0m \u001b[1;33m+\u001b[0m \u001b[1;33m(\u001b[0m\u001b[1;34m\" name: \"\u001b[0m \u001b[1;33m+\u001b[0m \u001b[0mname\u001b[0m \u001b[1;32mif\u001b[0m \u001b[0mname\u001b[0m \u001b[1;32mis\u001b[0m \u001b[1;32mnot\u001b[0m \u001b[1;32mNone\u001b[0m \u001b[1;32melse\u001b[0m \u001b[1;34m\"\"\u001b[0m\u001b[1;33m)\u001b[0m\u001b[1;33m\u001b[0m\u001b[1;33m\u001b[0m\u001b[0m\n\u001b[0;32m   6861\u001b[0m   \u001b[1;31m# pylint: disable=protected-access\u001b[0m\u001b[1;33m\u001b[0m\u001b[1;33m\u001b[0m\u001b[1;33m\u001b[0m\u001b[0m\n\u001b[1;32m-> 6862\u001b[1;33m   \u001b[0msix\u001b[0m\u001b[1;33m.\u001b[0m\u001b[0mraise_from\u001b[0m\u001b[1;33m(\u001b[0m\u001b[0mcore\u001b[0m\u001b[1;33m.\u001b[0m\u001b[0m_status_to_exception\u001b[0m\u001b[1;33m(\u001b[0m\u001b[0me\u001b[0m\u001b[1;33m.\u001b[0m\u001b[0mcode\u001b[0m\u001b[1;33m,\u001b[0m \u001b[0mmessage\u001b[0m\u001b[1;33m)\u001b[0m\u001b[1;33m,\u001b[0m \u001b[1;32mNone\u001b[0m\u001b[1;33m)\u001b[0m\u001b[1;33m\u001b[0m\u001b[1;33m\u001b[0m\u001b[0m\n\u001b[0m\u001b[0;32m   6863\u001b[0m   \u001b[1;31m# pylint: enable=protected-access\u001b[0m\u001b[1;33m\u001b[0m\u001b[1;33m\u001b[0m\u001b[1;33m\u001b[0m\u001b[0m\n\u001b[0;32m   6864\u001b[0m \u001b[1;33m\u001b[0m\u001b[0m\n",
      "\u001b[1;32m~\\Anaconda3\\envs\\TensorFlow\\lib\\site-packages\\six.py\u001b[0m in \u001b[0;36mraise_from\u001b[1;34m(value, from_value)\u001b[0m\n",
      "\u001b[1;31mInvalidArgumentError\u001b[0m: Expected dimension in the range [-1, 1), but got 1 [Op:ArgMax]"
     ]
    }
   ],
   "source": [
    "from sklearn.metrics import accuracy_score\n",
    "# Creates a confusion matrix\n",
    "y_pred = model.predict(x_test)\n",
    "num_classes = 2\n",
    "y_true = tf.argmax(y_test, axis = 1)\n",
    "y_pred = tf.argmax(y_pred, axis = 1)"
   ]
  },
  {
   "cell_type": "code",
   "execution_count": 37,
   "metadata": {},
   "outputs": [
    {
     "data": {
      "image/png": "[encoded data removed]",
      "text/plain": [
       "<Figure size 720x360 with 2 Axes>"
      ]
     },
     "metadata": {},
     "output_type": "display_data"
    }
   ],
   "source": [
    "from sklearn.metrics import confusion_matrix\n",
    "cm = confusion_matrix(y_true, y_pred, labels=[0,1]) \n",
    "# Transform to df for easier plotting\n",
    "cm_df = pd.DataFrame(cm,\n",
    "                     index = ['No_Rain','Rain'], \n",
    "                     columns = ['No_Rain','Rain'])\n",
    "\n",
    "plt.figure(figsize=(10,5))\n",
    "sns.heatmap(cm_df, annot=True, fmt=\"d\") \n",
    "plt.title('Bidirectional_LSTM_Model\\nAccuracy:{0:.3f}'.format(accuracy_score(y_true, y_pred)))\n",
    "plt.ylabel('True Label')\n",
    "plt.xlabel('Predicted Label')\n",
    "plt.show()"
   ]
  },
  {
   "cell_type": "code",
   "execution_count": 38,
   "metadata": {},
   "outputs": [
    {
     "name": "stdout",
     "output_type": "stream",
     "text": [
      "              precision    recall  f1-score   support\n",
      "\n",
      "     No_Rain       0.90      0.96      0.93       655\n",
      "        Rain       0.96      0.90      0.93       655\n",
      "\n",
      "    accuracy                           0.93      1310\n",
      "   macro avg       0.93      0.93      0.93      1310\n",
      "weighted avg       0.93      0.93      0.93      1310\n",
      "\n"
     ]
    }
   ],
   "source": [
    "import sklearn.metrics as metrics\n",
    "from sklearn.metrics import accuracy_score\n",
    "print(metrics.classification_report(y_true, y_pred, target_names=['No_Rain','Rain']))"
   ]
  },
  {
   "cell_type": "markdown",
   "metadata": {},
   "source": [
    "# Plot the model's training and validation loss"
   ]
  },
  {
   "cell_type": "code",
   "execution_count": 20,
   "metadata": {},
   "outputs": [
    {
     "data": {
      "text/plain": [
       "<matplotlib.legend.Legend at 0x19758730550>"
      ]
     },
     "execution_count": 20,
     "metadata": {},
     "output_type": "execute_result"
    },
    {
     "data": {
      "image/png": "[encoded data removed]",
      "text/plain": [
       "<Figure size 432x288 with 1 Axes>"
      ]
     },
     "metadata": {},
     "output_type": "display_data"
    }
   ],
   "source": [
    "plt.plot(history.history['loss'], label='Training_Loss')\n",
    "plt.plot(history.history['val_loss'], label='Testing_Loss')\n",
    "plt.legend()"
   ]
  },
  {
   "cell_type": "markdown",
   "metadata": {},
   "source": [
    "# Plot the model's training and validation Accuracy"
   ]
  },
  {
   "cell_type": "code",
   "execution_count": 40,
   "metadata": {},
   "outputs": [
    {
     "data": {
      "image/png": "[encoded data removed]",
      "text/plain": [
       "<Figure size 432x288 with 1 Axes>"
      ]
     },
     "metadata": {},
     "output_type": "display_data"
    }
   ],
   "source": [
    "metric = \"accuracy\"\n",
    "plt.figure()\n",
    "plt.plot(history.history[metric])\n",
    "plt.plot(history.history[\"val_\" + metric])\n",
    "plt.title(\"model \" + metric)\n",
    "plt.ylabel(metric, fontsize=\"large\")\n",
    "plt.xlabel(\"epoch\", fontsize=\"large\")\n",
    "plt.legend([\"train\", \"val\"], loc=\"best\")\n",
    "plt.show()\n",
    "plt.close()"
   ]
  },
  {
   "cell_type": "markdown",
   "metadata": {},
   "source": [
    "# ROC Curve"
   ]
  },
  {
   "cell_type": "code",
   "execution_count": 41,
   "metadata": {},
   "outputs": [
    {
     "name": "stdout",
     "output_type": "stream",
     "text": [
      "AUC:0.9297709923664123\n"
     ]
    },
    {
     "data": {
      "image/png": "[encoded data removed]",
      "text/plain": [
       "<Figure size 720x576 with 1 Axes>"
      ]
     },
     "metadata": {},
     "output_type": "display_data"
    }
   ],
   "source": [
    "fpr,tpr, thresholds= roc_curve(y_true, y_pred)\n",
    "#1w = 2\n",
    "def ROC_curve(fpr,tpr):\n",
    "    sns.set_style('darkgrid',{'axes.facecolor':'0.9'})\n",
    "    print(('AUC:{}'.format(auc(fpr,tpr))))\n",
    "    plt.figure(figsize=(10,8))\n",
    "    plt.plot(fpr,tpr,color='darkorange', lw=3,linestyle='--', label='ROC of Bi-LSTM')\n",
    "    plt.plot([0,1],[0,1],color = 'navy', lw=3, linestyle='--', label='No Skill')\n",
    "    plt.xlim([0.0,1.0])\n",
    "    plt.ylim([0.0,1.05])\n",
    "#    plt.xticks([i/20.0 for in range(21)])\n",
    "    plt.xlabel('False Posetive Rate')\n",
    "    plt.ylabel('True Posetive Rate')\n",
    "    plt.title('Reciever Operating Characteristics (ROC) Curve')\n",
    "    plt.legend(loc='lower right')\n",
    "    plt.show()\n",
    "ROC_curve(fpr,tpr)"
   ]
  },
  {
   "cell_type": "code",
   "execution_count": null,
   "metadata": {},
   "outputs": [],
   "source": []
  }
 ],
 "metadata": {
  "kernelspec": {
   "display_name": "Python 3",
   "language": "python",
   "name": "python3"
  },
  "language_info": {
   "codemirror_mode": {
    "name": "ipython",
    "version": 3
   },
   "file_extension": ".py",
   "mimetype": "text/x-python",
   "name": "python",
   "nbconvert_exporter": "python",
   "pygments_lexer": "ipython3",
   "version": "3.6.12"
  }
 },
 "nbformat": 4,
 "nbformat_minor": 4
}
